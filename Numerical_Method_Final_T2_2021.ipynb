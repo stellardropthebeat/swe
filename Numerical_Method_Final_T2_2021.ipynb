{
 "cells": [
  {
   "cell_type": "code",
   "execution_count": 10,
   "metadata": {
    "ExecuteTime": {
     "end_time": "2021-12-09T05:56:57.478421Z",
     "start_time": "2021-12-09T05:56:56.880793Z"
    }
   },
   "outputs": [],
   "source": [
    "import numpy as np\n",
    "from matplotlib import pyplot as plt"
   ]
  },
  {
   "cell_type": "markdown",
   "metadata": {},
   "source": [
    "**Rule**\n",
    "- Open book, google, wolfram alpha etc.\n",
    "- No communication regarding exam to anyone except me.\n",
    "- Don't be stupid and ask people on Chegg or any other exam cheating services\n",
    "- You will be graded out of 144. Not 160.\n",
    "- Make sure you notebook runs."
   ]
  },
  {
   "cell_type": "markdown",
   "metadata": {},
   "source": [
    "# Part 1 Easy Stuff -- Stright from Exercise (20 points Each)"
   ]
  },
  {
   "cell_type": "markdown",
   "metadata": {},
   "source": [
    "## MC Integral:\n",
    "Compute\n",
    "$$ \\iint_C (x-3)(y-2)(z-1) \\; dV $$ \n",
    "where $C$ is a **sphere** of radius 2 center around (0,0,0)"
   ]
  },
  {
   "cell_type": "code",
   "execution_count": 11,
   "metadata": {},
   "outputs": [
    {
     "name": "stdout",
     "output_type": "stream",
     "text": [
      "-46.33300143245755\n"
     ]
    }
   ],
   "source": [
    "def gen_point():\n",
    "    return np.random.random()*2 - 1, np.random.random()*2 - 1, np.random.random()*2 - 1\n",
    "\n",
    "def f(x, y, z):\n",
    "    return (x-3) * (y-2) * (z-1)\n",
    "\n",
    "def g(x, y, z):\n",
    "    if x**2 + y**2 + z**2 < 2: #inside a sphere of radius 2\n",
    "        return f(x,y,z)\n",
    "    else: \n",
    "        return 0\n",
    "\n",
    "s = 0\n",
    "m = 100000\n",
    "for i in range(m):\n",
    "    x, y, z = gen_point()\n",
    "    s += g(x, y, z)\n",
    "print(s/m*8)"
   ]
  },
  {
   "cell_type": "markdown",
   "metadata": {
    "ExecuteTime": {
     "end_time": "2021-03-28T13:01:08.852612Z",
     "start_time": "2021-03-28T13:01:08.844057Z"
    }
   },
   "source": [
    "## Find the location of the minimum of the following function\n",
    "\n",
    "$$\n",
    "f(x,y,z) = (x-y)^2 + (x-2z)^2 + (x-3)^2 + 2(y-1)^2 + 3(z-5)^2\n",
    "$$\n"
   ]
  },
  {
   "cell_type": "code",
   "execution_count": 12,
   "metadata": {},
   "outputs": [
    {
     "name": "stdout",
     "output_type": "stream",
     "text": [
      "[3.79545455 1.93181818 3.22727273]\n"
     ]
    }
   ],
   "source": [
    "def f(v):\n",
    "    x,y,z = v\n",
    "    return ((x - y)**2) + ((x-(2*z))**2) + ((x-3)**2) + (2*(y-1)**2) + (3*(z-5)**2)\n",
    "\n",
    "\n",
    "\n",
    "def partial_i(f, v, i, h=0.001):\n",
    "    v_p = v.copy()\n",
    "    v_p[i] += h\n",
    "    v_m = v.copy()\n",
    "    v_m[i] -= h\n",
    "    return (f(v_p) - f(v_m))/(2*h)\n",
    "\n",
    "\n",
    "def grad(f, v, h=0.0001):\n",
    "    p = []\n",
    "    for i in range(len(v)):\n",
    "        p.append(partial_i(f, v, i, h))\n",
    "    return np.array(p)\n",
    "\n",
    "def ttt(f, x0, lmb, n):\n",
    "    x = x0.copy()\n",
    "    xs = [x.copy()]\n",
    "    xs = [x.copy() for i in range(n)]\n",
    "    for i in range(n):\n",
    "        x = x - lmb*grad(f, x)\n",
    "        xs.append(x.copy())\n",
    "    return x, xs\n",
    "\n",
    "x, xs = ttt(f, np.array([0., 0., 0.]), 0.001, 10000)\n",
    "print(x)"
   ]
  },
  {
   "cell_type": "markdown",
   "metadata": {},
   "source": [
    "## Estimate the following number\n",
    "\n",
    "Consider a unfair dice where the faces are 1,2,3,4,5 and 6. But the probability of getting each face is as follow\n",
    "\n",
    "| Dice Face | 1    | 2    | 3    | 4    | 5    | 6    |\n",
    "|-----------|------|------|------|------|------|------|\n",
    "| Prob      | 1/21 | 2/21 | 3/21 | 4/21 | 5/21 | 6/21 |\n",
    "\n",
    "If you toss the dice twice, what is the probability that the maximum of the two dices is more than or equal to 4.\n"
   ]
  },
  {
   "cell_type": "code",
   "execution_count": 13,
   "metadata": {},
   "outputs": [
    {
     "data": {
      "text/plain": [
       "0.91978"
      ]
     },
     "execution_count": 13,
     "metadata": {},
     "output_type": "execute_result"
    }
   ],
   "source": [
    "def dice():\n",
    "    x = np.random.random()\n",
    "    if x < 1/21 :\n",
    "        return 1\n",
    "    elif x < 3/21 :\n",
    "        return 2\n",
    "    elif x < 6/21 :\n",
    "        return 3\n",
    "    elif x < 10/21 :\n",
    "        return 4\n",
    "    elif x < 15/21 :\n",
    "        return 5\n",
    "    else :\n",
    "        return 6\n",
    "\n",
    "ans = [(max(dice(),dice()) >=4) for i in range(100000)]\n",
    "np.sum(ans)/100000\n"
   ]
  },
  {
   "cell_type": "markdown",
   "metadata": {},
   "source": [
    "## Solve the following System of Equations\n",
    "One solution is enough.\n",
    "\n",
    "$$\n",
    "x^2 + y + z = 7.4894289999999994\\\\\n",
    "x + y^2 + z = 12.784279210000001\\\\\n",
    "x + y + z^2 = 15.191911359999999\n",
    "$$\n",
    "\n",
    "Hint: there is an answer around x=1.x, y=2.x, z=3.x"
   ]
  },
  {
   "cell_type": "code",
   "execution_count": 14,
   "metadata": {
    "ExecuteTime": {
     "end_time": "2022-04-05T19:45:04.939676Z",
     "start_time": "2022-04-05T19:45:04.928862Z"
    }
   },
   "outputs": [
    {
     "data": {
      "text/plain": [
       "(1.1229999999999993, 2.8839, 3.3444)"
      ]
     },
     "execution_count": 14,
     "metadata": {},
     "output_type": "execute_result"
    }
   ],
   "source": [
    "from functools import wraps\n",
    "\n",
    "def f(x, y, z):\n",
    "    return x**2 + y + z - 7.4894289999999994\n",
    "def g(x, y, z):\n",
    "    return x + y**2 + z - 12.784279210000001\n",
    "def h(x, y, z):\n",
    "    return x + y + z**2 - 15.191911359999999\n",
    "\n",
    "def pdiff(f,i,h=0.001):\n",
    "  @wraps(f)\n",
    "  def ret(*arg):\n",
    "    fwd = list(arg)\n",
    "    fwd[i] += h\n",
    "    bwd = list(arg)\n",
    "    bwd[i] -= h\n",
    "    return (f(*fwd) - f(*bwd))/(2*h)\n",
    "  return ret\n",
    "\n",
    "def solve(f,g,h,x0,y0,z0,n):\n",
    "  x,y,z = x0,y0,z0\n",
    "  fx = pdiff(f,0)\n",
    "  fy = pdiff(f,1)\n",
    "  fz = pdiff(f,2)\n",
    "  gx = pdiff(g,0)\n",
    "  gy = pdiff(g,1)\n",
    "  gz = pdiff(g,2)\n",
    "  hx = pdiff(h,0)\n",
    "  hy = pdiff(h,1)\n",
    "  hz = pdiff(h,2)\n",
    "  for i in range(n):\n",
    "    A = [[fx(x, y, z), fy(x, y, z), fz(x, y, z)],\n",
    "        [gx(x, y, z), gy(x, y, z), gz(x, y, z)],\n",
    "        [hx(x, y, z), hy(x, y, z), hz(x, y, z)],]\n",
    "    B = [-f(x, y, z), -g(x, y, z), -h(x, y, z)]\n",
    "    dx,dy,dz = np.linalg.solve(A,B)\n",
    "    x += dx\n",
    "    y += dy\n",
    "    z += dz\n",
    "  return x,y,z\n",
    "\n",
    "solve(f,g,h,1.0,2.0,3.0,10000)"
   ]
  },
  {
   "cell_type": "markdown",
   "metadata": {},
   "source": [
    "## Equal Partitioning"
   ]
  },
  {
   "cell_type": "markdown",
   "metadata": {},
   "source": [
    "Find 20 numbers from list given below (in numbers) that add up decently close 0."
   ]
  },
  {
   "cell_type": "code",
   "execution_count": 15,
   "metadata": {
    "ExecuteTime": {
     "end_time": "2022-04-05T20:10:17.103871Z",
     "start_time": "2022-04-05T20:10:17.095165Z"
    }
   },
   "outputs": [
    {
     "name": "stdout",
     "output_type": "stream",
     "text": [
      "0.00036498383890859465\n"
     ]
    }
   ],
   "source": [
    "import random\n",
    "\n",
    "np.random.seed(333)\n",
    "numbers = np.random.randn(1000)\n",
    "number = np.random.choice(numbers,20)\n",
    "value = 0\n",
    "for i in number:\n",
    "    value+=i\n",
    "\n",
    "for i in range(10000):\n",
    "    newnum = np.random.choice(numbers,20)\n",
    "    newvalue = 0\n",
    "    for i in newnum:\n",
    "        newvalue+=i\n",
    "    if(abs(newvalue-0) < abs(value-0)):\n",
    "        value = newvalue\n",
    "        number = newnum\n",
    "\n",
    "print(value)\n",
    "\n"
   ]
  },
  {
   "cell_type": "markdown",
   "metadata": {},
   "source": [
    "# Part 2 Creative Stuff."
   ]
  },
  {
   "cell_type": "markdown",
   "metadata": {},
   "source": [
    "## Politically Correct Tour (30)"
   ]
  },
  {
   "cell_type": "markdown",
   "metadata": {},
   "source": [
    "Consider an governor election at an imaginary city named Sheena. There are 50 districts. Let us suppose that 25 of them are red shirts district and 25 of them are yellow shirts district. A governer candidate named Eren want to visit every district exactly once each(similar to the homework). But with one catch....if the candidate visit two red shirt districts consecutively, or two yellor shirts districts consecutively, the candidate might be seen as leaning toward one side or the other.\n",
    "\n",
    "The candidate want to maintian political correctness(not virtue correctness), and visit all cities at decently low cost/total distance. \n",
    "\n",
    "The location for each district is given below in `xs` and `ys`. The first 25 locations are red shirts district and last 25 locations are yellow shirts district. You may use the euclidean distance.\n",
    "\n",
    "\n",
    "Find a decently optimal travel path that visit each district exactly once each where he visit alternatively between red and yellow shirt disctrict.\n",
    "\n",
    "\n",
    "Please plot the path along with the total distance so I can grade.\n",
    "\n",
    "**Spoiler/Hint** (double click and remove display:none to see the spoiler/hint). If you see it before you think hard about it hard you may regret it though......\n",
    "<div style=\"display:none\">\n",
    "Starting with a valid alternate solution. If you put some constraint on how you manipulate the state you can easilty preserve the alternate-ness.\n",
    "</div>"
   ]
  },
  {
   "cell_type": "code",
   "execution_count": 16,
   "metadata": {
    "ExecuteTime": {
     "end_time": "2022-04-05T20:41:20.141921Z",
     "start_time": "2022-04-05T20:41:19.996930Z"
    }
   },
   "outputs": [
    {
     "data": {
      "text/plain": [
       "[<matplotlib.lines.Line2D at 0x11be54160>]"
      ]
     },
     "execution_count": 16,
     "metadata": {},
     "output_type": "execute_result"
    },
    {
     "data": {
      "image/png": "[encoded data removed]",
      "text/plain": [
       "<Figure size 432x288 with 1 Axes>"
      ]
     },
     "metadata": {
      "needs_background": "light"
     },
     "output_type": "display_data"
    }
   ],
   "source": [
    "n_red = 25\n",
    "n_yellow = 25\n",
    "np.random.seed(5555)\n",
    "xs = np.random.rand(n_red+n_yellow)\n",
    "ys = np.random.rand(n_red+n_yellow)\n",
    "plt.plot(xs[:n_red], ys[:n_red], 'or')\n",
    "plt.plot(xs[n_red:], ys[n_red:], 'oy')"
   ]
  },
  {
   "cell_type": "code",
   "execution_count": null,
   "metadata": {},
   "outputs": [],
   "source": []
  },
  {
   "cell_type": "markdown",
   "metadata": {},
   "source": [
    "## Regression with Cyclic target value. (30)"
   ]
  },
  {
   "cell_type": "markdown",
   "metadata": {},
   "source": [
    "So far, in class, we learned about how to do regression via optimization. The most common cost function that we use is typically the least square one. This problem deals with the situation when it doesn't make sense to use it plainly.\n",
    "\n",
    "Let suppose we want to predict an **angle** $\\theta$ via the relation (think about it as a care moving in a circle and x is a time or something)\n",
    "$$\n",
    "    \\theta(x, y; a,b) = a x + b\n",
    "$$\n",
    "You are given a lot of data for $\\theta^{(i)}, x^{(i)}, y^{(i)}$ and you want to find $a, b, c$. Such that it gives you the best fit.\n",
    "\n",
    "\n",
    "**Bad Approach**\n",
    "\n",
    "If we were to use the least square method **plainly**\n",
    "$$cost(a, b) = \\sum (\\theta(x^{(i)}, y^{(i)}; a, b) - \\theta^{(i)})^2$$\n",
    "you would end up with some funny prediction. There are two problems with this approach\n",
    "    \n",
    " 1. The angle of $0.1$ rad and $2\\pi + 0.1$ rad are exactly the same but the cost function penalize them quite heavily.\n",
    " 2. The angle of 1 degree and 359 degree are actually very close but it gets penalized very heavily.\n",
    "\n",
    "\n",
    "**Your Task**: \n",
    " \n",
    "A) The find \"best fitted\" $a, b, c$ for the data below. This means you need to figure out the cost function. Explain clearly what you choose this cost function and how does it fix the problem.\n",
    "\n",
    "B) Perform the fit and plot predicted $\\theta$ vs actual $\\theta$ (please normalize it to $0$ to $2 \\pi$)\n",
    "\n",
    "\n",
    "\n",
    "**Grading**\n",
    "You will be graded on A), but B) will help me check your answer.\n",
    "\n",
    "If you cost function fix 1. alone you will get a lot of partial credit (75%). Fixing number 2. requires a bit more thought and you may want to scrap what you did to fix 1. alone (See hint).\n",
    "\n",
    "\n",
    " \n",
    "**Spoiler/Hint** (double click and remove display:none to see the spoiler/hint). If you see it before you think hard about it hard you may regret it though......\n",
    "<div style=\"display:none\">\n",
    "There are many many approaches to this problem here are some hints. All the hints are separated suggestion for (may be) different approaches.\n",
    "\n",
    "    0) Least square method sort of works but it require some changes.\n",
    "\n",
    "    1) You could try to find true angle difference.\n",
    "\n",
    "    2) You could try to view the angle a point in space instead (this means you will have two number one is sin and the other is cosine).\n",
    "\n",
    "    3) There is a thing called cosined similarity/cosine distance (https://en.wikipedia.org/wiki/Cosine_similarity)\n",
    "</div>"
   ]
  },
  {
   "cell_type": "code",
   "execution_count": 17,
   "metadata": {
    "ExecuteTime": {
     "end_time": "2022-04-05T20:43:02.105430Z",
     "start_time": "2022-04-05T20:43:02.083628Z"
    }
   },
   "outputs": [],
   "source": [
    "import numpy as np\n",
    "from matplotlib import pyplot as plt\n",
    "xs = np.linspace(0,20, 100)\n",
    "thetas = np.array([3.96515529, 3.79589285, 3.80460668, 4.15407905, 4.60142126,\n",
    "       4.58507349, 4.72244762, 4.996768  , 5.34276449, 5.32066321,\n",
    "       5.91925438, 0.10835622, 0.11155355, 0.92920285, 0.72741033,\n",
    "       0.83019996, 1.00060854, 1.29700679, 2.12604413, 2.10341159,\n",
    "       1.49996779, 2.31222118, 2.38543799, 2.49872911, 3.22586982,\n",
    "       3.4590875 , 4.17509916, 3.92164722, 4.2805659 , 4.03639032,\n",
    "       5.2702804 , 5.37831083, 4.94278083, 5.06006715, 5.74476611,\n",
    "       5.51297422, 5.89954223, 6.23737667, 0.02997406, 0.41499624,\n",
    "       0.27383099, 0.70373732, 0.84024144, 1.48599369, 1.61487801,\n",
    "       2.17440339, 2.63618396, 2.35226171, 2.86791023, 2.97176022,\n",
    "       3.36670093, 3.20293236, 4.2388738 , 4.67377526, 4.58885304,\n",
    "       4.87229109, 4.84277969, 4.84048003, 5.5626026 , 5.99747158,\n",
    "       5.54831992, 6.21892757, 6.23070783, 0.01589764, 0.72879202,\n",
    "       0.52583884, 1.40088771, 1.1463675 , 1.69219034, 0.94868602,\n",
    "       1.56443541, 1.41121833, 2.61042043, 2.5790102 , 2.92644316,\n",
    "       3.42052301, 3.62754826, 3.79769435, 4.32015239, 4.3142438 ,\n",
    "       4.38144705, 4.80248523, 5.4842731 , 5.13794031, 5.1532113 ,\n",
    "       5.42619961, 0.01402126, 5.9099192 , 0.10687845, 1.05552371,\n",
    "       0.78189588, 1.1001971 , 1.18751243, 2.20870036, 1.71387036,\n",
    "       1.68076413, 2.03755553, 2.49541479, 1.99608852, 2.91235582])"
   ]
  },
  {
   "cell_type": "code",
   "execution_count": 18,
   "metadata": {
    "ExecuteTime": {
     "end_time": "2022-04-05T20:43:05.437936Z",
     "start_time": "2022-04-05T20:43:05.280593Z"
    }
   },
   "outputs": [
    {
     "data": {
      "text/plain": [
       "[<matplotlib.lines.Line2D at 0x11bd72250>]"
      ]
     },
     "execution_count": 18,
     "metadata": {},
     "output_type": "execute_result"
    },
    {
     "data": {
      "image/png": "[encoded data removed]",
      "text/plain": [
       "<Figure size 432x288 with 1 Axes>"
      ]
     },
     "metadata": {
      "needs_background": "light"
     },
     "output_type": "display_data"
    }
   ],
   "source": [
    "plt.plot(xs, thetas)"
   ]
  },
  {
   "cell_type": "code",
   "execution_count": null,
   "metadata": {
    "ExecuteTime": {
     "end_time": "2022-04-05T19:22:12.418741Z",
     "start_time": "2022-04-05T19:22:12.406899Z"
    }
   },
   "outputs": [],
   "source": []
  },
  {
   "cell_type": "code",
   "execution_count": null,
   "metadata": {},
   "outputs": [],
   "source": []
  }
 ],
 "metadata": {
  "hide_input": false,
  "kernelspec": {
   "display_name": "Python 3",
   "language": "python",
   "name": "python3"
  },
  "language_info": {
   "codemirror_mode": {
    "name": "ipython",
    "version": 3
   },
   "file_extension": ".py",
   "mimetype": "text/x-python",
   "name": "python",
   "nbconvert_exporter": "python",
   "pygments_lexer": "ipython3",
   "version": "3.9.12"
  },
  "toc": {
   "colors": {
    "hover_highlight": "#DAA520",
    "running_highlight": "#FF0000",
    "selected_highlight": "#FFD700"
   },
   "moveMenuLeft": true,
   "nav_menu": {
    "height": "266.4705810546875px",
    "width": "252.35293579101562px"
   },
   "navigate_menu": true,
   "number_sections": true,
   "sideBar": true,
   "threshold": 4,
   "toc_cell": false,
   "toc_section_display": "block",
   "toc_window_display": true
  }
 },
 "nbformat": 4,
 "nbformat_minor": 4
}
