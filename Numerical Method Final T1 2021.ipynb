{
 "cells": [
  {
   "cell_type": "code",
   "execution_count": 8,
   "metadata": {
    "ExecuteTime": {
     "end_time": "2021-12-09T05:56:57.478421Z",
     "start_time": "2021-12-09T05:56:56.880793Z"
    }
   },
   "outputs": [
    {
     "ename": "ModuleNotFoundError",
     "evalue": "No module named 'matplotlib'",
     "output_type": "error",
     "traceback": [
      "\u001b[0;31m---------------------------------------------------------------------------\u001b[0m",
      "\u001b[0;31mModuleNotFoundError\u001b[0m                       Traceback (most recent call last)",
      "\u001b[1;32m/Users/nutchapol.isa/IdeaProjects/cross-working/Numerical Method Final T1 2021.ipynb Cell 1'\u001b[0m in \u001b[0;36m<cell line: 2>\u001b[0;34m()\u001b[0m\n\u001b[1;32m      <a href='vscode-notebook-cell:/Users/nutchapol.isa/IdeaProjects/cross-working/Numerical%20Method%20Final%20T1%202021.ipynb#ch0000000?line=0'>1</a>\u001b[0m \u001b[39mimport\u001b[39;00m \u001b[39mnumpy\u001b[39;00m \u001b[39mas\u001b[39;00m \u001b[39mnp\u001b[39;00m\n\u001b[0;32m----> <a href='vscode-notebook-cell:/Users/nutchapol.isa/IdeaProjects/cross-working/Numerical%20Method%20Final%20T1%202021.ipynb#ch0000000?line=1'>2</a>\u001b[0m \u001b[39mfrom\u001b[39;00m \u001b[39mmatplotlib\u001b[39;00m \u001b[39mimport\u001b[39;00m pyplot \u001b[39mas\u001b[39;00m plt\n",
      "\u001b[0;31mModuleNotFoundError\u001b[0m: No module named 'matplotlib'"
     ]
    }
   ],
   "source": [
    "import numpy as np\n",
    "from matplotlib import pyplot as plt"
   ]
  },
  {
   "cell_type": "markdown",
   "metadata": {},
   "source": [
    "**Rule**\n",
    "- Open book, google, wolfram alpha etc.\n",
    "- No communication regarding exam to anyone except me.\n",
    "- You will be graded out of 144. Not 160.\n",
    "- Make sure you notebook runs."
   ]
  },
  {
   "cell_type": "markdown",
   "metadata": {},
   "source": [
    "# Part 1 Easy Stuff -- Stright from Exercise (20 points Each)"
   ]
  },
  {
   "cell_type": "markdown",
   "metadata": {},
   "source": [
    "## MC Integral:\n",
    "Compute\n",
    "$$ \\iint_C (x-1)(y-2)(z-3) \\; dV $$ \n",
    "where $C$ is a **sphere** of radius 1 center around (0,0,0)"
   ]
  },
  {
   "cell_type": "code",
   "execution_count": 9,
   "metadata": {},
   "outputs": [
    {
     "name": "stdout",
     "output_type": "stream",
     "text": [
      "-25.17698498926422\n"
     ]
    }
   ],
   "source": [
    "def gen_point():\n",
    "    return np.random.random()*2 - 1, np.random.random()*2 - 1, np.random.random()*2 - 1\n",
    "\n",
    "def f(x, y, z):\n",
    "    return (x-1) * (y-2) * (z-3)\n",
    "\n",
    "def g(x, y, z):\n",
    "    if x**2 + y**2 + z**2 < 1: #inside a sphere of radius 1\n",
    "        return f(x,y,z)\n",
    "    else: \n",
    "        return 0\n",
    "\n",
    "s = 0\n",
    "m = 100000\n",
    "for i in range(m):\n",
    "    x, y, z = gen_point()\n",
    "    s += g(x, y, z)\n",
    "print(s/m*8)"
   ]
  },
  {
   "cell_type": "markdown",
   "metadata": {
    "ExecuteTime": {
     "end_time": "2021-03-28T13:01:08.852612Z",
     "start_time": "2021-03-28T13:01:08.844057Z"
    }
   },
   "source": [
    "## Find the location of the minimum of the following function\n",
    "\n",
    "$$\n",
    "f(x,y,z) = (x-1y)^2 + (x-3z)^2 + (x-1)^2 + 2(y-2)^2 + 3(z-3)^2\n",
    "$$\n"
   ]
  },
  {
   "cell_type": "code",
   "execution_count": 10,
   "metadata": {},
   "outputs": [
    {
     "name": "stdout",
     "output_type": "stream",
     "text": [
      "[2.89473684 1.63157895 1.47368421]\n"
     ]
    }
   ],
   "source": [
    "def f(v):\n",
    "    x,y,z = v\n",
    "    return ((x - (2*y))**2) + ((x-(3*z))**2) + ((x-1)**2) + (2*(y-2)**2) + (3*(z-3)**2)\n",
    "\n",
    "\n",
    "\n",
    "def partial_i(f, v, i, h=0.001):\n",
    "    v_p = v.copy()\n",
    "    v_p[i] += h\n",
    "    v_m = v.copy()\n",
    "    v_m[i] -= h\n",
    "    return (f(v_p) - f(v_m))/(2*h)\n",
    "\n",
    "\n",
    "def grad(f, v, h=0.0001):\n",
    "    p = []\n",
    "    for i in range(len(v)):\n",
    "        p.append(partial_i(f, v, i, h))\n",
    "    return np.array(p)\n",
    "\n",
    "def ttt(f, x0, lmb, n):\n",
    "    x = x0.copy()\n",
    "    xs = [x.copy()]\n",
    "    xs = [x.copy() for i in range(n)]\n",
    "    for i in range(n):\n",
    "        x = x - lmb*grad(f, x)\n",
    "        xs.append(x.copy())\n",
    "    return x, xs\n",
    "\n",
    "x, xs = ttt(f, np.array([0., 0., 0.]), 0.001, 10000)\n",
    "print(x)"
   ]
  },
  {
   "cell_type": "markdown",
   "metadata": {},
   "source": [
    "## Estimate the following number\n",
    "\n",
    "Consider a stack of cards with number from 1-99 (inclusive) on it. There is only one of each.\n",
    "\n",
    "What is the probability that when we draw 2 cards at the **same time** and the larger card is strictly more than 2 times the smaller card.\n",
    "\n",
    "Hint: Drawing at the **same time** guarantees you will never get the same number.\n"
   ]
  },
  {
   "cell_type": "code",
   "execution_count": 11,
   "metadata": {},
   "outputs": [
    {
     "name": "stdout",
     "output_type": "stream",
     "text": [
      "0.48849\n"
     ]
    }
   ],
   "source": [
    "def card():\n",
    "    x = np.random.randint(1,100,2)\n",
    "    if (x[0] > 2*(x[1]) or x[1] > 2*(x[0])):\n",
    "        return 1\n",
    "    return 0\n",
    "\n",
    "ans = 0\n",
    "bound = 100000\n",
    "for i in range(bound):\n",
    "    ans += card()\n",
    "final_ans = ans/bound\n",
    "print(final_ans)"
   ]
  },
  {
   "cell_type": "markdown",
   "metadata": {},
   "source": [
    "## Solve the following System of Equations\n",
    "One solution is enough.\n",
    "\n",
    "$$\n",
    "x + y + z = 6.6\\\\\n",
    "x^2 + 2 y^2 + 3z^2 = 43.56\\\\\n",
    "xyz = 7.986\n",
    "$$\n",
    "\n",
    "Hint: there is an answer around x=1, y=2, z=3"
   ]
  },
  {
   "cell_type": "code",
   "execution_count": 12,
   "metadata": {},
   "outputs": [
    {
     "name": "stdout",
     "output_type": "stream",
     "text": [
      "x: 1.1000000000000003\n",
      "y: 2.199999999999999\n",
      "z: 3.3000000000000003\n"
     ]
    }
   ],
   "source": [
    "def a(x, y, z):\n",
    "    return x + y + z - 6.6\n",
    "def b(x, y, z):\n",
    "    return x**2 + 2*y**2 + 3*z**2 - 43.56\n",
    "def c(x, y, z):\n",
    "    return x*y*z - 7.986\n",
    "\n",
    "\n",
    "def run(x0, y0, z0, n):\n",
    "    x, y, z = x0, y0, z0\n",
    "    for i in range(n):\n",
    "        d = np.array([-a(x,y,z), -b(x,y,z), -c(x,y,z)])\n",
    "        TT = test(x,y,z)\n",
    "        dx, dy, dz = np.linalg.solve(TT, d)\n",
    "        x = x+dx\n",
    "        y = y+dy\n",
    "        z = z+dz\n",
    "    return x,y,z\n",
    "\n",
    "\n",
    "def test(x, y, z):\n",
    "    return np.array([\n",
    "        [1,1,1],\n",
    "        [2*x,4*y,6*z],\n",
    "        [y*z,x*z,x*y],\n",
    "    ])\n",
    "\n",
    "x, y, z = run(1, 2, 3, 100)\n",
    "\n",
    "print(\"x:\", x)\n",
    "print(\"y:\", y)\n",
    "print(\"z:\", z)"
   ]
  },
  {
   "cell_type": "markdown",
   "metadata": {},
   "source": [
    "## Equal Partitioning"
   ]
  },
  {
   "cell_type": "markdown",
   "metadata": {},
   "source": [
    "AJ bought 25 pieces of cake for 5 students. The problem is that each piece of cake weigh differently. The weight of the cake is given in the array below. AJ wants to be fair by\n",
    "- Give 5 cake to each student\n",
    "- Make sure everyone get about the same amount of cake. Yes, it's a loose definition. Anything sensible is fine.\n",
    "\n",
    "**Your Task**\n",
    "\n",
    "Give the list indices of cake that you give to each student.\n",
    "\n",
    "Bonus:(0 point) Solve this exactly with linear optimization."
   ]
  },
  {
   "cell_type": "code",
   "execution_count": 13,
   "metadata": {
    "ExecuteTime": {
     "end_time": "2021-12-09T05:57:02.771536Z",
     "start_time": "2021-12-09T05:57:02.759910Z"
    }
   },
   "outputs": [
    {
     "name": "stdout",
     "output_type": "stream",
     "text": [
      "[0.65882887 0.06027274 0.37937644 0.06747164 0.65809827 0.03881445\n",
      " 0.07219876 0.38016139 0.05596416 0.80919586 0.78206881 0.41166766\n",
      " 0.06511818 0.60047652 0.66955029 0.53140532 0.57318565 0.66038214\n",
      " 0.98447152 0.44450527 0.35804503 0.48759695 0.88029813 0.41067726\n",
      " 0.46043122]\n"
     ]
    }
   ],
   "source": [
    "np.random.seed(9983)\n",
    "cake_weights = np.random.random(25)\n",
    "print(cake_weights)"
   ]
  },
  {
   "cell_type": "code",
   "execution_count": 14,
   "metadata": {},
   "outputs": [
    {
     "data": {
      "text/plain": [
       "[[17, 24, 19, 12, 14],\n",
       " [9, 6, 16, 3, 10],\n",
       " [22, 8, 1, 0, 4],\n",
       " [7, 15, 13, 20, 11],\n",
       " [2, 21, 23, 5, 18]]"
      ]
     },
     "execution_count": 14,
     "metadata": {},
     "output_type": "execute_result"
    }
   ],
   "source": [
    "cake_weights2 = cake_weights.reshape(5, 5)\n",
    "\n",
    "def solve(ttt):\n",
    "    new_ans = ttt.copy()\n",
    "    a = np.random.randint(5)\n",
    "    b = np.random.randint(5)\n",
    "    cc = np.random.randint(5)\n",
    "    dd = np.random.randint(5)\n",
    "    new_ans[a][dd] = ttt[b][cc]\n",
    "    new_ans[b][cc] = ttt[a][dd]\n",
    "    return new_ans\n",
    "\n",
    "def manage(lst):\n",
    "    sum_lst = []\n",
    "    for i in range(5):\n",
    "        sum_lst.append(sum(lst[i]))\n",
    "    return max(sum_lst) - min(sum_lst)\n",
    "\n",
    "def search():\n",
    "    ttt = cake_weights2\n",
    "    for i in range(300000):\n",
    "        ss = solve(ttt)\n",
    "        if manage(ss) < manage(ttt):\n",
    "            ttt = ss\n",
    "    return ttt, manage(ttt)\n",
    "\n",
    "ttt, manage_ans = search()\n",
    "\n",
    "cake_weights3= cake_weights.tolist()\n",
    "ans_lst = ttt.tolist()\n",
    "final = []\n",
    "for i in range(5):\n",
    "    fff = []\n",
    "    for j in range(5):\n",
    "        fff.append(cake_weights3.index(ans_lst[i][j]))\n",
    "    final.append(fff)\n",
    "final"
   ]
  },
  {
   "cell_type": "code",
   "execution_count": 15,
   "metadata": {},
   "outputs": [
    {
     "name": "stdout",
     "output_type": "stream",
     "text": [
      "2.2999870935441327\n",
      "2.304120728394095\n",
      "2.3134621803347053\n",
      "2.2817559257886826\n",
      "2.300936629354831\n"
     ]
    }
   ],
   "source": [
    "for i in range(5):\n",
    "    print(sum(ttt[i]))"
   ]
  },
  {
   "cell_type": "markdown",
   "metadata": {},
   "source": [
    "# Part 2 Creative Stuff."
   ]
  },
  {
   "cell_type": "markdown",
   "metadata": {},
   "source": [
    "## Hotel Match Making (30)"
   ]
  },
  {
   "cell_type": "markdown",
   "metadata": {},
   "source": [
    "Suppose we are hotel & customer match making. Our goal is to get the most revenue.\n",
    "\n",
    "The willingness to pay from customer i for hotel h is given in the matrix below. Each hotel can take at most 1 customer. Each customer can stay at at most 1 hotel. Since there are more hotel than customer, some hotel will get no customer.\n",
    "\n",
    "Find the pairing that gives the decently large revenue. Print the total revenue."
   ]
  },
  {
   "cell_type": "code",
   "execution_count": 16,
   "metadata": {
    "ExecuteTime": {
     "end_time": "2021-12-09T05:57:36.405467Z",
     "start_time": "2021-12-09T05:57:36.245519Z"
    }
   },
   "outputs": [
    {
     "ename": "NameError",
     "evalue": "name 'plt' is not defined",
     "output_type": "error",
     "traceback": [
      "\u001b[0;31m---------------------------------------------------------------------------\u001b[0m",
      "\u001b[0;31mNameError\u001b[0m                                 Traceback (most recent call last)",
      "\u001b[1;32m/Users/nutchapol.isa/IdeaProjects/cross-working/Numerical Method Final T1 2021.ipynb Cell 20'\u001b[0m in \u001b[0;36m<cell line: 5>\u001b[0;34m()\u001b[0m\n\u001b[1;32m      <a href='vscode-notebook-cell:/Users/nutchapol.isa/IdeaProjects/cross-working/Numerical%20Method%20Final%20T1%202021.ipynb#ch0000019?line=2'>3</a>\u001b[0m np\u001b[39m.\u001b[39mrandom\u001b[39m.\u001b[39mseed(\u001b[39m5555\u001b[39m)\n\u001b[1;32m      <a href='vscode-notebook-cell:/Users/nutchapol.isa/IdeaProjects/cross-working/Numerical%20Method%20Final%20T1%202021.ipynb#ch0000019?line=3'>4</a>\u001b[0m pay \u001b[39m=\u001b[39m np\u001b[39m.\u001b[39mrandom\u001b[39m.\u001b[39mrand(n_cust, n_hotel)\n\u001b[0;32m----> <a href='vscode-notebook-cell:/Users/nutchapol.isa/IdeaProjects/cross-working/Numerical%20Method%20Final%20T1%202021.ipynb#ch0000019?line=4'>5</a>\u001b[0m plt\u001b[39m.\u001b[39mimshow(pay)\n",
      "\u001b[0;31mNameError\u001b[0m: name 'plt' is not defined"
     ]
    }
   ],
   "source": [
    "n_cust = 100\n",
    "n_hotel = 150\n",
    "np.random.seed(5555)\n",
    "pay = np.random.rand(n_cust, n_hotel)\n",
    "plt.imshow(pay)"
   ]
  },
  {
   "cell_type": "code",
   "execution_count": null,
   "metadata": {},
   "outputs": [],
   "source": []
  },
  {
   "cell_type": "markdown",
   "metadata": {},
   "source": [
    "## Random Walk (30)"
   ]
  },
  {
   "cell_type": "markdown",
   "metadata": {},
   "source": [
    "Random walk process is a very versatile simulation tool. You did a version of it during class when we did the stock. We are going to consider a simpler one here where your position of you next step is the current position +-1 depending on result of a **fair** coin toss. Specifically\n",
    "\n",
    "$$\n",
    "    x_{n+1} = x_{n} + step\n",
    "$$\n",
    "\n",
    "where\n",
    "$$\n",
    "    step = \\begin{cases}\n",
    "    +1 \\quad \\text{if coin is head}\\\\\n",
    "    -1 \\quad \\text{if coin is tail}\n",
    "    \\end{cases}\n",
    "$$\n",
    "\n",
    "Orginally it starts at $x_0=0$, answer the following question.\n",
    "\n",
    "Consider random walk for 100 times. (this means the maximum you can end up is +100 or -100)"
   ]
  },
  {
   "cell_type": "markdown",
   "metadata": {},
   "source": [
    "### At the end\n",
    "Find the probability that you will **end** up at $x_{100}\\ge 10$"
   ]
  },
  {
   "cell_type": "code",
   "execution_count": null,
   "metadata": {},
   "outputs": [],
   "source": []
  },
  {
   "cell_type": "markdown",
   "metadata": {},
   "source": [
    "### Over at at any time\n",
    "Find the probability that you will go over(or equal) 10 at anytime."
   ]
  },
  {
   "cell_type": "code",
   "execution_count": null,
   "metadata": {},
   "outputs": [],
   "source": []
  },
  {
   "cell_type": "markdown",
   "metadata": {},
   "source": [
    "### Over and Back\n",
    "Find the probability that you will reach x=+5 and comeback and reach x=0."
   ]
  },
  {
   "cell_type": "code",
   "execution_count": null,
   "metadata": {},
   "outputs": [],
   "source": []
  },
  {
   "cell_type": "markdown",
   "metadata": {},
   "source": [
    "### Mean of Max\n",
    "What is the mean of the furthest distance it will ever reached? (max(abs(xn))"
   ]
  },
  {
   "cell_type": "code",
   "execution_count": null,
   "metadata": {},
   "outputs": [],
   "source": []
  }
 ],
 "metadata": {
  "hide_input": false,
  "kernelspec": {
   "display_name": "Python 3",
   "language": "python",
   "name": "python3"
  },
  "language_info": {
   "codemirror_mode": {
    "name": "ipython",
    "version": 3
   },
   "file_extension": ".py",
   "mimetype": "text/x-python",
   "name": "python",
   "nbconvert_exporter": "python",
   "pygments_lexer": "ipython3",
   "version": "3.9.12"
  },
  "toc": {
   "colors": {
    "hover_highlight": "#DAA520",
    "running_highlight": "#FF0000",
    "selected_highlight": "#FFD700"
   },
   "moveMenuLeft": true,
   "nav_menu": {
    "height": "266.4705810546875px",
    "width": "252.35293579101562px"
   },
   "navigate_menu": true,
   "number_sections": true,
   "sideBar": true,
   "threshold": 4,
   "toc_cell": false,
   "toc_section_display": "block",
   "toc_window_display": true
  }
 },
 "nbformat": 4,
 "nbformat_minor": 4
}
